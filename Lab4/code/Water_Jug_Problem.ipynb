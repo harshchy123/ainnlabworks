{
  "nbformat": 4,
  "nbformat_minor": 0,
  "metadata": {
    "colab": {
      "provenance": []
    },
    "kernelspec": {
      "name": "python3",
      "display_name": "Python 3"
    },
    "language_info": {
      "name": "python"
    }
  },
  "cells": [
    {
      "cell_type": "code",
      "source": [
        "from collections import deque\n",
        "\n",
        "def water_jug_solver(jug1_capacity, jug2_capacity, target):\n",
        "    visited = set()\n",
        "    queue = deque([(0, 0)])  # Initial state (0,0)\n",
        "\n",
        "    while queue:\n",
        "        jug1, jug2 = queue.popleft()\n",
        "\n",
        "        # If target amount is reached in any jug\n",
        "        if jug1 == target or jug2 == target:\n",
        "            print(f\"Solution found: ({jug1}, {jug2})\")\n",
        "            return\n",
        "\n",
        "        # Skip if state is already visited\n",
        "        if (jug1, jug2) in visited:\n",
        "            continue\n",
        "\n",
        "        visited.add((jug1, jug2))\n",
        "\n",
        "        # Possible operations\n",
        "        next_states = [\n",
        "            (jug1_capacity, jug2),  # Fill jug1\n",
        "            (jug1, jug2_capacity),  # Fill jug2\n",
        "            (0, jug2),              # Empty jug1\n",
        "            (jug1, 0),              # Empty jug2\n",
        "            (jug1 - min(jug1, jug2_capacity - jug2), jug2 + min(jug1, jug2_capacity - jug2)),  # Pour jug1 -> jug2\n",
        "            (jug1 + min(jug2, jug1_capacity - jug1), jug2 - min(jug2, jug1_capacity - jug1)),  # Pour jug2 -> jug1\n",
        "        ]\n",
        "\n",
        "        for state in next_states:\n",
        "            queue.append(state)\n",
        "\n",
        "    print(\"No solution possible.\")\n",
        "\n",
        "# Get user input for jug capacities and target amount\n",
        "jug1_capacity = int(input(\"Enter capacity of Jug 1: \"))\n",
        "jug2_capacity = int(input(\"Enter capacity of Jug 2: \"))\n",
        "target = int(input(\"Enter target amount of water: \"))\n",
        "\n",
        "water_jug_solver(jug1_capacity, jug2_capacity, target)\n"
      ],
      "metadata": {
        "colab": {
          "base_uri": "https://localhost:8080/"
        },
        "id": "dyDBIhmA4lOW",
        "outputId": "434ba814-d133-4481-8bff-6f355ed187d2"
      },
      "execution_count": 2,
      "outputs": [
        {
          "output_type": "stream",
          "name": "stdout",
          "text": [
            "Enter capacity of Jug 1: 4\n",
            "Enter capacity of Jug 2: 3\n",
            "Enter target amount of water: 3\n",
            "Solution found: (0, 3)\n"
          ]
        }
      ]
    }
  ]
}