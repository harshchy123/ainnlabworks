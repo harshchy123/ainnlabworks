{
  "nbformat": 4,
  "nbformat_minor": 0,
  "metadata": {
    "colab": {
      "provenance": []
    },
    "kernelspec": {
      "name": "python3",
      "display_name": "Python 3"
    },
    "language_info": {
      "name": "python"
    }
  },
  "cells": [
    {
      "cell_type": "code",
      "execution_count": 1,
      "metadata": {
        "colab": {
          "base_uri": "https://localhost:8080/"
        },
        "id": "VhprlPEa7yko",
        "outputId": "5e3f7959-4d33-436f-87fd-11dce8bb723e"
      },
      "outputs": [
        {
          "output_type": "stream",
          "name": "stdout",
          "text": [
            "Is the left room dirty? (yes/no): yes\n",
            "Is the right room dirty? (yes/no): no\n",
            "Enter vacuum position (left/right): left\n",
            "\n",
            "Initial State:\n",
            "Left Room: Dirty, Right Room: Clean\n",
            "Vacuum Position: Left\n",
            "\n",
            "Cleaning left room...\n",
            "Moving to right room...\n",
            "\n",
            "Final State:\n",
            "Left Room: Clean, Right Room: Clean\n",
            "All rooms are clean. Task completed!\n"
          ]
        }
      ],
      "source": [
        "def vacuum_world():\n",
        "    # Get user input for room conditions\n",
        "    left_room = input(\"Is the left room dirty? (yes/no): \").strip().lower()\n",
        "    right_room = input(\"Is the right room dirty? (yes/no): \").strip().lower()\n",
        "    position = input(\"Enter vacuum position (left/right): \").strip().lower()\n",
        "\n",
        "    # Convert inputs to boolean values for easier processing\n",
        "    rooms = {\n",
        "        \"left\": left_room == \"yes\",\n",
        "        \"right\": right_room == \"yes\"\n",
        "    }\n",
        "\n",
        "    print(\"\\nInitial State:\")\n",
        "    print(f\"Left Room: {'Dirty' if rooms['left'] else 'Clean'}, Right Room: {'Dirty' if rooms['right'] else 'Clean'}\")\n",
        "    print(f\"Vacuum Position: {position.capitalize()}\\n\")\n",
        "\n",
        "    # Cleaning process\n",
        "    if position == \"left\":\n",
        "        if rooms[\"left\"]:\n",
        "            print(\"Cleaning left room...\")\n",
        "            rooms[\"left\"] = False\n",
        "        print(\"Moving to right room...\")\n",
        "        if rooms[\"right\"]:\n",
        "            print(\"Cleaning right room...\")\n",
        "            rooms[\"right\"] = False\n",
        "\n",
        "    elif position == \"right\":\n",
        "        if rooms[\"right\"]:\n",
        "            print(\"Cleaning right room...\")\n",
        "            rooms[\"right\"] = False\n",
        "        print(\"Moving to left room...\")\n",
        "        if rooms[\"left\"]:\n",
        "            print(\"Cleaning left room...\")\n",
        "            rooms[\"left\"] = False\n",
        "\n",
        "    # Final state\n",
        "    print(\"\\nFinal State:\")\n",
        "    print(f\"Left Room: {'Dirty' if rooms['left'] else 'Clean'}, Right Room: {'Dirty' if rooms['right'] else 'Clean'}\")\n",
        "    print(\"All rooms are clean. Task completed!\")\n",
        "\n",
        "# Run the vacuum world problem\n",
        "vacuum_world()\n"
      ]
    }
  ]
}